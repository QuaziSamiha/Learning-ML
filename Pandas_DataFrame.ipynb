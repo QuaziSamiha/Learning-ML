{
  "nbformat": 4,
  "nbformat_minor": 0,
  "metadata": {
    "colab": {
      "provenance": [],
      "authorship_tag": "ABX9TyMfqcuGywAN26X/qGr1jfk8",
      "include_colab_link": true
    },
    "kernelspec": {
      "name": "python3",
      "display_name": "Python 3"
    },
    "language_info": {
      "name": "python"
    }
  },
  "cells": [
    {
      "cell_type": "markdown",
      "metadata": {
        "id": "view-in-github",
        "colab_type": "text"
      },
      "source": [
        "<a href=\"https://colab.research.google.com/github/QuaziSamiha/Learning-ML/blob/main/Pandas_DataFrame.ipynb\" target=\"_parent\"><img src=\"https://colab.research.google.com/assets/colab-badge.svg\" alt=\"Open In Colab\"/></a>"
      ]
    },
    {
      "cell_type": "markdown",
      "source": [
        "##Creating a dataframe using List:"
      ],
      "metadata": {
        "id": "TjQxbGY8_sgR"
      }
    },
    {
      "cell_type": "code",
      "execution_count": null,
      "metadata": {
        "colab": {
          "base_uri": "https://localhost:8080/"
        },
        "id": "GxIHjgoe-28r",
        "outputId": "3b0d627f-49f8-406d-d962-9deccae0d7ba"
      },
      "outputs": [
        {
          "output_type": "stream",
          "name": "stdout",
          "text": [
            "        0\n",
            "0   geeks\n",
            "1     for\n",
            "2   geeks\n",
            "3      is\n",
            "4  portal\n",
            "5     for\n",
            "6   Geeks\n"
          ]
        }
      ],
      "source": [
        "# In the real world, a Pandas DataFrame will be created by loading the datasets from existing storage, \n",
        "# storage can be SQL Database, CSV file, and Excel file. Pandas DataFrame can be created from the lists, \n",
        "# dictionary, and from a list of dictionary etc. \n",
        "import pandas as pd\n",
        "\n",
        "# list of strings\n",
        "lst = ['geeks', 'for', 'geeks', 'is', 'portal', 'for', 'Geeks']\n",
        "# calling dataframe constructor on List\n",
        "df = pd.DataFrame(lst)\n",
        "print(df)"
      ]
    },
    {
      "cell_type": "markdown",
      "source": [
        "##Creating DataFrame from dict of ndarray/lists:"
      ],
      "metadata": {
        "id": "CVar7xPkA6hX"
      }
    },
    {
      "cell_type": "code",
      "source": [
        "import pandas as pd\n",
        "# initialise data of list\n",
        "data = {'Name': ['Tom', 'nick', 'krich', 'jack'],\n",
        "        'Age': [20, 21, 19, 18]}\n",
        "# To create DataFrame from dict of narray/list, all the narray must be of same length. \n",
        "# create dataframe\n",
        "df = pd.DataFrame(data)\n",
        "print(df)"
      ],
      "metadata": {
        "colab": {
          "base_uri": "https://localhost:8080/"
        },
        "id": "LhIclujxBBjN",
        "outputId": "8cf2cc23-1401-42cc-cd3a-dd9a5ba58b49"
      },
      "execution_count": null,
      "outputs": [
        {
          "output_type": "stream",
          "name": "stdout",
          "text": [
            "    Name  Age\n",
            "0    Tom   20\n",
            "1   nick   21\n",
            "2  krich   19\n",
            "3   jack   18\n"
          ]
        }
      ]
    },
    {
      "cell_type": "code",
      "source": [
        "import pandas as pd\n",
        "data = {'Name': ['Pakija', 'Bushra', 'Rashik', 'Samiha'],\n",
        "        'Age': [20, 23, 21, 22],\n",
        "        'Address': ['Rajshahi', 'Dhaka', 'Bogura', 'Sylhet'],\n",
        "        'Qualification': ['BSc', 'BSc', 'MSc', 'Phd']}\n",
        "df = pd.DataFrame(data)\n",
        "print(df[['Name', 'Qualification']])"
      ],
      "metadata": {
        "colab": {
          "base_uri": "https://localhost:8080/"
        },
        "id": "zgQGdjRGCWll",
        "outputId": "cf9a99a2-b817-4fe3-9ec0-e7b3cb074481"
      },
      "execution_count": null,
      "outputs": [
        {
          "output_type": "stream",
          "name": "stdout",
          "text": [
            "     Name Qualification\n",
            "0  Pakija           BSc\n",
            "1  Bushra           BSc\n",
            "2  Rashik           MSc\n",
            "3  Samiha           Phd\n"
          ]
        }
      ]
    }
  ]
}